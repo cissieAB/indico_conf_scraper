{
 "cells": [
  {
   "cell_type": "code",
   "execution_count": 1,
   "id": "1d6d4c2b",
   "metadata": {},
   "outputs": [],
   "source": [
    "import pandas as pd\n",
    "\n",
    "filenames = [\n",
    "    'chep_contrib_2023.csv',\n",
    "    'chep_contrib_2021.csv',\n",
    "    'chep_contrib_2019.csv',\n",
    "    'chep_contrib_2018.csv',\n",
    "    'chep_contrib_2016.csv',\n",
    "]\n",
    "\n",
    "key_words = [\n",
    "    'AI',\n",
    "    'machine learning', 'ML',\n",
    "    'neural network', \n",
    "    'deep learning', \n",
    "    'Generative Adversarial Network', 'GAN',\n",
    "    'encoder',\n",
    "    'diffusion model'\n",
    "]"
   ]
  },
  {
   "cell_type": "code",
   "execution_count": 10,
   "id": "9b2ca774",
   "metadata": {},
   "outputs": [],
   "source": [
    "stats = []\n",
    "kw_titles_df = pd.DataFrame()\n",
    "\n",
    "\n",
    "for filename in filenames:\n",
    "    year = int(filename[13:17])\n",
    "    df = pd.read_csv(filename)\n",
    "    cur_year_dict = {'year': year}\n",
    "    title_set = set()\n",
    "\n",
    "    for kw in key_words:\n",
    "        count = df['Title'].str.contains(kw, case=False).sum()\n",
    "        cur_year_dict.update({kw: count})\n",
    "        \n",
    "        filtered_titles = df[df['Title'].str.contains(kw, case=False)]\n",
    "        for title in filtered_titles['Title']:\n",
    "            title_set.add(title)\n",
    "    \n",
    "    filtered_rows = df[df['Title'].isin(list(title_set))]\n",
    "    kw_titles_df = pd.concat([kw_titles_df, filtered_rows])\n",
    "    \n",
    "    cur_year_dict.update({'sum': len(title_set)}) \n",
    "    \n",
    "    stats.append(cur_year_dict)\n",
    "\n",
    "# print(stats)"
   ]
  },
  {
   "cell_type": "code",
   "execution_count": 11,
   "id": "c43d3f11",
   "metadata": {},
   "outputs": [
    {
     "name": "stdout",
     "output_type": "stream",
     "text": [
      "   year  AI  machine learning  ML  neural network  deep learning  \\\n",
      "0  2023  45                32  10              17              6   \n",
      "1  2021  13                 3   3               9              6   \n",
      "2  2019  31                15   8               6              5   \n",
      "3  2018  36                16   2               7              6   \n",
      "4  2016  21                 6   2               2              2   \n",
      "\n",
      "   Generative Adversarial Network  GAN  encoder  diffusion model  sum  \n",
      "0                               2    2        3                1  112  \n",
      "1                               3    2        1                0   38  \n",
      "2                               4    3        0                0   69  \n",
      "3                               1    0        1                0   67  \n",
      "4                               0    1        0                0   33  \n"
     ]
    }
   ],
   "source": [
    "stats_df = pd.DataFrame(stats)\n",
    "print(stats_df)"
   ]
  },
  {
   "cell_type": "code",
   "execution_count": 12,
   "id": "40f6ff67",
   "metadata": {},
   "outputs": [
    {
     "data": {
      "text/plain": [
       "<AxesSubplot:xlabel='year'>"
      ]
     },
     "execution_count": 12,
     "metadata": {},
     "output_type": "execute_result"
    },
    {
     "data": {
      "image/png": "[encoded data removed]",
      "text/plain": [
       "<Figure size 432x288 with 1 Axes>"
      ]
     },
     "metadata": {
      "needs_background": "light"
     },
     "output_type": "display_data"
    }
   ],
   "source": [
    "stats_df.plot(x='year',y='sum', kind='bar')"
   ]
  },
  {
   "cell_type": "code",
   "execution_count": 14,
   "id": "24b71c3d",
   "metadata": {},
   "outputs": [
    {
     "name": "stdout",
     "output_type": "stream",
     "text": [
      "     Year                                               Link  \\\n",
      "5    2023  https://indico.jlab.org/event/459/contribution...   \n",
      "8    2023  https://indico.jlab.org/event/459/contribution...   \n",
      "9    2023  https://indico.jlab.org/event/459/contribution...   \n",
      "21   2023  https://indico.jlab.org/event/459/contribution...   \n",
      "24   2023  https://indico.jlab.org/event/459/contribution...   \n",
      "..    ...                                                ...   \n",
      "483  2016  https://indico.cern.ch/event/505613/contributi...   \n",
      "493  2016  https://indico.cern.ch/event/505613/contributi...   \n",
      "505  2016  https://indico.cern.ch/event/505613/contributi...   \n",
      "520  2016  https://indico.cern.ch/event/505613/contributi...   \n",
      "552  2016  https://indico.cern.ch/event/505613/contributi...   \n",
      "\n",
      "                                                 Title  \\\n",
      "5    Distributed Machine Learning with PanDA and iD...   \n",
      "8    Machine learning for ambiguity resolution in ACTS   \n",
      "9    MLHad: Simulating Hadronization with Machine L...   \n",
      "21   SYMBA: Symbolic Computation of Squared Amplitu...   \n",
      "24   Build-a-Fit: RooFit configurable parallelizati...   \n",
      "..                                                 ...   \n",
      "483  Plancton: an opportunistic distributed computi...   \n",
      "493  Representing Misalignments of the STAR Geometr...   \n",
      "505  STAR Data Production at NERSC/Cori, an adaptab...   \n",
      "520                The Fast Simulation Chain for ATLAS   \n",
      "552             Machine Learning in Science and Beyond   \n",
      "\n",
      "                                               Authors  \\\n",
      "5    De Kaushik, Guan Wen, Karavakis Edward, Klimen...   \n",
      "8    Allaire Corentin, Grasland Hadrien, Rousseau D...   \n",
      "9    Ilten Philip, Menzo Tony, Mrenna Steve, Szewc ...   \n",
      "21   Alnuqaydan Abdulhakim, Gleyzer Sergei, Prosper...   \n",
      "24   Wolffs Zef, Verkerke Wouter, Bos Patrick, van ...   \n",
      "..                                                 ...   \n",
      "483  Matteo Concas, Dario Berzano, Massimo Masera, ...   \n",
      "493  Dmitri Smirnov, Gene Van Buren, Jason Webb, Je...   \n",
      "505      Jeff Porter, Jerome LAURET, Mustafa Mustafa,    \n",
      "520                                                NaN   \n",
      "552                                                NaN   \n",
      "\n",
      "                                            Attachment  \n",
      "5    https://indico.jlab.org/event/459/contribution...  \n",
      "8    https://indico.jlab.org/event/459/contribution...  \n",
      "9    https://indico.jlab.org/event/459/contribution...  \n",
      "21   https://indico.jlab.org/event/459/contribution...  \n",
      "24   https://indico.jlab.org/event/459/contribution...  \n",
      "..                                                 ...  \n",
      "483  https://indico.cern.ch/event/505613/contributi...  \n",
      "493  https://indico.cern.ch/event/505613/contributi...  \n",
      "505  https://indico.cern.ch/event/505613/contributi...  \n",
      "520  https://indico.cern.ch/event/505613/contributi...  \n",
      "552  https://indico.cern.ch/event/505613/contributi...  \n",
      "\n",
      "[319 rows x 5 columns]\n"
     ]
    }
   ],
   "source": [
    "print(kw_titles_df)\n",
    "kw_titles_df.to_csv(f'CHEP_ML.csv', index=False)"
   ]
  },
  {
   "cell_type": "code",
   "execution_count": null,
   "id": "975227bd",
   "metadata": {},
   "outputs": [],
   "source": []
  }
 ],
 "metadata": {
  "kernelspec": {
   "display_name": "Python 3 (ipykernel)",
   "language": "python",
   "name": "python3"
  },
  "language_info": {
   "codemirror_mode": {
    "name": "ipython",
    "version": 3
   },
   "file_extension": ".py",
   "mimetype": "text/x-python",
   "name": "python",
   "nbconvert_exporter": "python",
   "pygments_lexer": "ipython3",
   "version": "3.9.12"
  }
 },
 "nbformat": 4,
 "nbformat_minor": 5
}
