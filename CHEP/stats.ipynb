{
 "cells": [
  {
   "cell_type": "code",
   "execution_count": 1,
   "id": "334d1284",
   "metadata": {},
   "outputs": [],
   "source": [
    "import pandas as pd\n",
    "\n",
    "filenames = [\n",
    "    'chep_contrib_2023.csv',\n",
    "    'chep_contrib_2021.csv',\n",
    "    'chep_contrib_2019.csv',\n",
    "    'chep_contrib_2018.csv',\n",
    "    'chep_contrib_2016.csv',\n",
    "]\n",
    "\n",
    "key_words = [\n",
    "    'AI',\n",
    "    'machine learning', 'ML',\n",
    "    'neural network', \n",
    "    'deep learning', \n",
    "    'Generative Adversarial Network', 'GAN',\n",
    "    'encoder',\n",
    "    'diffusion model'\n",
    "]"
   ]
  },
  {
   "cell_type": "code",
   "execution_count": 6,
   "id": "58359e31",
   "metadata": {},
   "outputs": [],
   "source": [
    "stats = []\n",
    "kw_titles_df = pd.DataFrame()\n",
    "\n",
    "\n",
    "def get_match_case(keyword):\n",
    "    if keyword in ['AI', 'ML', 'GAN', 'GPU']:\n",
    "        return True\n",
    "    return False\n",
    "\n",
    "for filename in filenames:\n",
    "    year = int(filename[13:17])\n",
    "    df = pd.read_csv(filename)\n",
    "    cur_year_dict = {'year': year}\n",
    "    title_set = set()\n",
    "\n",
    "    for kw in key_words:\n",
    "        count = df['Title'].str.contains(kw, case=get_match_case(kw)).sum()\n",
    "        cur_year_dict.update({kw: count})\n",
    "        \n",
    "        filtered_titles = df[df['Title'].str.contains(kw, case=get_match_case(kw))]\n",
    "        for title in filtered_titles['Title']:\n",
    "            title_set.add(title)\n",
    "    \n",
    "    filtered_rows = df[df['Title'].isin(list(title_set))]\n",
    "    kw_titles_df = pd.concat([kw_titles_df, filtered_rows])\n",
    "    \n",
    "    cur_year_dict.update({'sum': len(title_set)}) \n",
    "    \n",
    "    stats.append(cur_year_dict)\n",
    "\n",
    "# print(stats)"
   ]
  },
  {
   "cell_type": "code",
   "execution_count": 7,
   "id": "ce789496",
   "metadata": {},
   "outputs": [
    {
     "name": "stdout",
     "output_type": "stream",
     "text": [
      "   year  AI  machine learning  ML  neural network  deep learning  \\\n",
      "0  2023  10                32   9              17              6   \n",
      "1  2021   1                 3   2               9              6   \n",
      "2  2019   7                15   4               6              5   \n",
      "3  2018   5                16   1               7              6   \n",
      "4  2016   1                 6   1               2              2   \n",
      "\n",
      "   Generative Adversarial Network  GAN  encoder  diffusion model  sum  \n",
      "0                               2    2        3                1   79  \n",
      "1                               3    2        1                0   27  \n",
      "2                               4    1        0                0   42  \n",
      "3                               1    0        1                0   35  \n",
      "4                               0    0        0                0   12  \n"
     ]
    }
   ],
   "source": [
    "stats_df = pd.DataFrame(stats)\n",
    "print(stats_df)"
   ]
  },
  {
   "cell_type": "code",
   "execution_count": 8,
   "id": "45e2b285",
   "metadata": {},
   "outputs": [
    {
     "data": {
      "text/plain": [
       "<AxesSubplot:xlabel='year'>"
      ]
     },
     "execution_count": 8,
     "metadata": {},
     "output_type": "execute_result"
    },
    {
     "data": {
      "image/png": "[encoded data removed]",
      "text/plain": [
       "<Figure size 432x288 with 1 Axes>"
      ]
     },
     "metadata": {
      "needs_background": "light"
     },
     "output_type": "display_data"
    }
   ],
   "source": [
    "stats_df.plot(x='year',y='sum', kind='bar')"
   ]
  },
  {
   "cell_type": "code",
   "execution_count": 5,
   "id": "6b73e0aa",
   "metadata": {},
   "outputs": [
    {
     "name": "stdout",
     "output_type": "stream",
     "text": [
      "     Year                                               Link  \\\n",
      "5    2023  https://indico.jlab.org/event/459/contribution...   \n",
      "8    2023  https://indico.jlab.org/event/459/contribution...   \n",
      "9    2023  https://indico.jlab.org/event/459/contribution...   \n",
      "21   2023  https://indico.jlab.org/event/459/contribution...   \n",
      "41   2023  https://indico.jlab.org/event/459/contribution...   \n",
      "..    ...                                                ...   \n",
      "391  2016  https://indico.cern.ch/event/505613/contributi...   \n",
      "395  2016  https://indico.cern.ch/event/505613/contributi...   \n",
      "397  2016  https://indico.cern.ch/event/505613/contributi...   \n",
      "493  2016  https://indico.cern.ch/event/505613/contributi...   \n",
      "552  2016  https://indico.cern.ch/event/505613/contributi...   \n",
      "\n",
      "                                                 Title  \\\n",
      "5    Distributed Machine Learning with PanDA and iD...   \n",
      "8    Machine learning for ambiguity resolution in ACTS   \n",
      "9    MLHad: Simulating Hadronization with Machine L...   \n",
      "21   SYMBA: Symbolic Computation of Squared Amplitu...   \n",
      "41   Progress on cloud native solution of Machine L...   \n",
      "..                                                 ...   \n",
      "391  Using machine learning algorithms to forecast ...   \n",
      "395  Expanding the user base beyond HEP for the Gan...   \n",
      "397  Machine learning and parallelism in the recons...   \n",
      "493  Representing Misalignments of the STAR Geometr...   \n",
      "552             Machine Learning in Science and Beyond   \n",
      "\n",
      "                                               Authors  \\\n",
      "5    De Kaushik, Guan Wen, Karavakis Edward, Klimen...   \n",
      "8    Allaire Corentin, Grasland Hadrien, Rousseau D...   \n",
      "9    Ilten Philip, Menzo Tony, Mrenna Steve, Szewc ...   \n",
      "21   Alnuqaydan Abdulhakim, Gleyzer Sergei, Prosper...   \n",
      "41   Giommi Luca, Spiga Daniele, Kuznetsov Valentin...   \n",
      "..                                                 ...   \n",
      "391                                    Mario Lassnig,    \n",
      "395  Robert Andrew Currie, Ulrik Egede, Alexander J...   \n",
      "397                                     Lucia Grillo,    \n",
      "493  Dmitri Smirnov, Gene Van Buren, Jason Webb, Je...   \n",
      "552                                                NaN   \n",
      "\n",
      "                                            Attachment  \n",
      "5    https://indico.jlab.org/event/459/contribution...  \n",
      "8    https://indico.jlab.org/event/459/contribution...  \n",
      "9    https://indico.jlab.org/event/459/contribution...  \n",
      "21   https://indico.jlab.org/event/459/contribution...  \n",
      "41   https://indico.jlab.org/event/459/contribution...  \n",
      "..                                                 ...  \n",
      "391  https://indico.cern.ch/event/505613/contributi...  \n",
      "395  https://indico.cern.ch/event/505613/contributi...  \n",
      "397  https://indico.cern.ch/event/505613/contributi...  \n",
      "493  https://indico.cern.ch/event/505613/contributi...  \n",
      "552  https://indico.cern.ch/event/505613/contributi...  \n",
      "\n",
      "[197 rows x 5 columns]\n"
     ]
    }
   ],
   "source": [
    "print(kw_titles_df)\n",
    "kw_titles_df.to_csv(f'CHEP_ML.csv', index=False)"
   ]
  },
  {
   "cell_type": "code",
   "execution_count": null,
   "id": "c97e7e81",
   "metadata": {},
   "outputs": [],
   "source": []
  }
 ],
 "metadata": {
  "kernelspec": {
   "display_name": "Python 3 (ipykernel)",
   "language": "python",
   "name": "python3"
  },
  "language_info": {
   "codemirror_mode": {
    "name": "ipython",
    "version": 3
   },
   "file_extension": ".py",
   "mimetype": "text/x-python",
   "name": "python",
   "nbconvert_exporter": "python",
   "pygments_lexer": "ipython3",
   "version": "3.9.12"
  }
 },
 "nbformat": 4,
 "nbformat_minor": 5
}
